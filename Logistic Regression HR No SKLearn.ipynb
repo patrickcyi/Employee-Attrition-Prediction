{
 "cells": [
  {
   "cell_type": "code",
   "execution_count": 1,
   "metadata": {},
   "outputs": [],
   "source": [
    "import numpy as np\n",
    "import pandas as pd\n",
    "import matplotlib.pyplot as plt\n",
    "%matplotlib inline\n",
    "from sklearn import metrics\n",
    "from patsy import dmatrices\n",
    "from sklearn.model_selection import train_test_split\n",
    "from sklearn.linear_model import LogisticRegression\n"
   ]
  },
  {
   "cell_type": "code",
   "execution_count": 2,
   "metadata": {},
   "outputs": [],
   "source": [
    "data=pd.read_csv('HR_comma_sep.csv')"
   ]
  },
  {
   "cell_type": "code",
   "execution_count": 3,
   "metadata": {},
   "outputs": [],
   "source": [
    "model=LogisticRegression()\n",
    "#dmatrices(which feature is Y, )\n",
    "y, X = dmatrices('left~satisfaction_level+last_evaluation+number_project+average_montly_hours+time_spend_company+Work_accident+promotion_last_5years+C(sales)+C(salary)', data, return_type='dataframe')\n",
    "X = X.rename(columns = {\n",
    "    'C(sales)[T.RandD]': 'Department: Random',\n",
    "    'C(sales)[T.accounting]': 'Department: Accounting',\n",
    "    'C(sales)[T.hr]': 'Department: HR',\n",
    "    'C(sales)[T.management]': 'Department: Management',\n",
    "    'C(sales)[T.marketing]': 'Department: Marketing',\n",
    "    'C(sales)[T.product_mng]': 'Department: Product_Management',\n",
    "    'C(sales)[T.sales]': 'Department: Sales',\n",
    "    'C(sales)[T.support]': 'Department: Support',\n",
    "    'C(sales)[T.technical]': 'Department: Technical',\n",
    "    'C(salary)[T.low]': 'Salary: Low',\n",
    "    'C(salary)[T.medium]': 'Salary: Medium'}) "
   ]
  },
  {
   "cell_type": "code",
   "execution_count": 4,
   "metadata": {},
   "outputs": [
    {
     "data": {
      "text/html": [
       "<div>\n",
       "<style scoped>\n",
       "    .dataframe tbody tr th:only-of-type {\n",
       "        vertical-align: middle;\n",
       "    }\n",
       "\n",
       "    .dataframe tbody tr th {\n",
       "        vertical-align: top;\n",
       "    }\n",
       "\n",
       "    .dataframe thead th {\n",
       "        text-align: right;\n",
       "    }\n",
       "</style>\n",
       "<table border=\"1\" class=\"dataframe\">\n",
       "  <thead>\n",
       "    <tr style=\"text-align: right;\">\n",
       "      <th></th>\n",
       "      <th>Intercept</th>\n",
       "      <th>Department: Random</th>\n",
       "      <th>Department: Accounting</th>\n",
       "      <th>Department: HR</th>\n",
       "      <th>Department: Management</th>\n",
       "      <th>Department: Marketing</th>\n",
       "      <th>Department: Product_Management</th>\n",
       "      <th>Department: Sales</th>\n",
       "      <th>Department: Support</th>\n",
       "      <th>Department: Technical</th>\n",
       "      <th>Salary: Low</th>\n",
       "      <th>Salary: Medium</th>\n",
       "      <th>satisfaction_level</th>\n",
       "      <th>last_evaluation</th>\n",
       "      <th>number_project</th>\n",
       "      <th>average_montly_hours</th>\n",
       "      <th>time_spend_company</th>\n",
       "      <th>Work_accident</th>\n",
       "      <th>promotion_last_5years</th>\n",
       "    </tr>\n",
       "  </thead>\n",
       "  <tbody>\n",
       "    <tr>\n",
       "      <th>0</th>\n",
       "      <td>1.0</td>\n",
       "      <td>0.0</td>\n",
       "      <td>0.0</td>\n",
       "      <td>0.0</td>\n",
       "      <td>0.0</td>\n",
       "      <td>0.0</td>\n",
       "      <td>0.0</td>\n",
       "      <td>1.0</td>\n",
       "      <td>0.0</td>\n",
       "      <td>0.0</td>\n",
       "      <td>1.0</td>\n",
       "      <td>0.0</td>\n",
       "      <td>0.38</td>\n",
       "      <td>0.53</td>\n",
       "      <td>2.0</td>\n",
       "      <td>157.0</td>\n",
       "      <td>3.0</td>\n",
       "      <td>0.0</td>\n",
       "      <td>0.0</td>\n",
       "    </tr>\n",
       "    <tr>\n",
       "      <th>1</th>\n",
       "      <td>1.0</td>\n",
       "      <td>0.0</td>\n",
       "      <td>0.0</td>\n",
       "      <td>0.0</td>\n",
       "      <td>0.0</td>\n",
       "      <td>0.0</td>\n",
       "      <td>0.0</td>\n",
       "      <td>1.0</td>\n",
       "      <td>0.0</td>\n",
       "      <td>0.0</td>\n",
       "      <td>0.0</td>\n",
       "      <td>1.0</td>\n",
       "      <td>0.80</td>\n",
       "      <td>0.86</td>\n",
       "      <td>5.0</td>\n",
       "      <td>262.0</td>\n",
       "      <td>6.0</td>\n",
       "      <td>0.0</td>\n",
       "      <td>0.0</td>\n",
       "    </tr>\n",
       "    <tr>\n",
       "      <th>2</th>\n",
       "      <td>1.0</td>\n",
       "      <td>0.0</td>\n",
       "      <td>0.0</td>\n",
       "      <td>0.0</td>\n",
       "      <td>0.0</td>\n",
       "      <td>0.0</td>\n",
       "      <td>0.0</td>\n",
       "      <td>1.0</td>\n",
       "      <td>0.0</td>\n",
       "      <td>0.0</td>\n",
       "      <td>0.0</td>\n",
       "      <td>1.0</td>\n",
       "      <td>0.11</td>\n",
       "      <td>0.88</td>\n",
       "      <td>7.0</td>\n",
       "      <td>272.0</td>\n",
       "      <td>4.0</td>\n",
       "      <td>0.0</td>\n",
       "      <td>0.0</td>\n",
       "    </tr>\n",
       "    <tr>\n",
       "      <th>3</th>\n",
       "      <td>1.0</td>\n",
       "      <td>0.0</td>\n",
       "      <td>0.0</td>\n",
       "      <td>0.0</td>\n",
       "      <td>0.0</td>\n",
       "      <td>0.0</td>\n",
       "      <td>0.0</td>\n",
       "      <td>1.0</td>\n",
       "      <td>0.0</td>\n",
       "      <td>0.0</td>\n",
       "      <td>1.0</td>\n",
       "      <td>0.0</td>\n",
       "      <td>0.72</td>\n",
       "      <td>0.87</td>\n",
       "      <td>5.0</td>\n",
       "      <td>223.0</td>\n",
       "      <td>5.0</td>\n",
       "      <td>0.0</td>\n",
       "      <td>0.0</td>\n",
       "    </tr>\n",
       "    <tr>\n",
       "      <th>4</th>\n",
       "      <td>1.0</td>\n",
       "      <td>0.0</td>\n",
       "      <td>0.0</td>\n",
       "      <td>0.0</td>\n",
       "      <td>0.0</td>\n",
       "      <td>0.0</td>\n",
       "      <td>0.0</td>\n",
       "      <td>1.0</td>\n",
       "      <td>0.0</td>\n",
       "      <td>0.0</td>\n",
       "      <td>1.0</td>\n",
       "      <td>0.0</td>\n",
       "      <td>0.37</td>\n",
       "      <td>0.52</td>\n",
       "      <td>2.0</td>\n",
       "      <td>159.0</td>\n",
       "      <td>3.0</td>\n",
       "      <td>0.0</td>\n",
       "      <td>0.0</td>\n",
       "    </tr>\n",
       "  </tbody>\n",
       "</table>\n",
       "</div>"
      ],
      "text/plain": [
       "   Intercept  Department: Random  Department: Accounting  Department: HR  \\\n",
       "0        1.0                 0.0                     0.0             0.0   \n",
       "1        1.0                 0.0                     0.0             0.0   \n",
       "2        1.0                 0.0                     0.0             0.0   \n",
       "3        1.0                 0.0                     0.0             0.0   \n",
       "4        1.0                 0.0                     0.0             0.0   \n",
       "\n",
       "   Department: Management  Department: Marketing  \\\n",
       "0                     0.0                    0.0   \n",
       "1                     0.0                    0.0   \n",
       "2                     0.0                    0.0   \n",
       "3                     0.0                    0.0   \n",
       "4                     0.0                    0.0   \n",
       "\n",
       "   Department: Product_Management  Department: Sales  Department: Support  \\\n",
       "0                             0.0                1.0                  0.0   \n",
       "1                             0.0                1.0                  0.0   \n",
       "2                             0.0                1.0                  0.0   \n",
       "3                             0.0                1.0                  0.0   \n",
       "4                             0.0                1.0                  0.0   \n",
       "\n",
       "   Department: Technical  Salary: Low  Salary: Medium  satisfaction_level  \\\n",
       "0                    0.0          1.0             0.0                0.38   \n",
       "1                    0.0          0.0             1.0                0.80   \n",
       "2                    0.0          0.0             1.0                0.11   \n",
       "3                    0.0          1.0             0.0                0.72   \n",
       "4                    0.0          1.0             0.0                0.37   \n",
       "\n",
       "   last_evaluation  number_project  average_montly_hours  time_spend_company  \\\n",
       "0             0.53             2.0                 157.0                 3.0   \n",
       "1             0.86             5.0                 262.0                 6.0   \n",
       "2             0.88             7.0                 272.0                 4.0   \n",
       "3             0.87             5.0                 223.0                 5.0   \n",
       "4             0.52             2.0                 159.0                 3.0   \n",
       "\n",
       "   Work_accident  promotion_last_5years  \n",
       "0            0.0                    0.0  \n",
       "1            0.0                    0.0  \n",
       "2            0.0                    0.0  \n",
       "3            0.0                    0.0  \n",
       "4            0.0                    0.0  "
      ]
     },
     "execution_count": 4,
     "metadata": {},
     "output_type": "execute_result"
    }
   ],
   "source": [
    "X.head()\n"
   ]
  },
  {
   "cell_type": "code",
   "execution_count": 5,
   "metadata": {},
   "outputs": [],
   "source": [
    "X_train, X_test, y_train, y_test = train_test_split(X, y, test_size=0.2, random_state=42)"
   ]
  },
  {
   "cell_type": "code",
   "execution_count": 6,
   "metadata": {},
   "outputs": [
    {
     "name": "stdout",
     "output_type": "stream",
     "text": [
      "(11999, 19)\n",
      "(11999, 1)\n",
      "(11999,)\n",
      "19\n"
     ]
    }
   ],
   "source": [
    "print(X_train.shape)\n",
    "print(y_train.shape)\n",
    "y=np.ravel(y_train)\n",
    "print(y.shape)\n",
    "print(X.shape[1])\n"
   ]
  },
  {
   "cell_type": "code",
   "execution_count": 7,
   "metadata": {},
   "outputs": [],
   "source": [
    "def normalize_x(X):\n",
    "    \n",
    "    for i in range(1, X.shape[1]):\n",
    "        xmin=X[:,i].min()\n",
    "        xmax=X[:,i].max()\n",
    "\n",
    "        X[:,i]=(X[:,i]-xmin)/(xmax-xmin)\n",
    "    return X\n",
    "\n",
    "X_train=normalize_x(X_train.values)\n",
    "X_test=normalize_x(X_test.values)\n",
    "\n",
    "y_train=y_train.values\n",
    "y_test=y_test.values\n"
   ]
  },
  {
   "cell_type": "code",
   "execution_count": 8,
   "metadata": {},
   "outputs": [
    {
     "name": "stdout",
     "output_type": "stream",
     "text": [
      "[-0.4747968   0.13824791 -0.19004257 -0.79540708 -0.01925384 -1.52203215\n",
      "  0.05516748  1.38441462 -0.71871971  0.61043538  0.62993197  1.99326274\n",
      " -0.66936429 -0.99170151  0.50190888 -0.0182508  -0.91495521 -0.46226464\n",
      " -0.62507116]\n"
     ]
    }
   ],
   "source": [
    "\n",
    "beta=np.random.randn(X_train.shape[1])\n",
    "print(beta)"
   ]
  },
  {
   "cell_type": "code",
   "execution_count": 9,
   "metadata": {},
   "outputs": [],
   "source": [
    "def prob_function(X, y, beta):\n",
    "    \n",
    "    prob= 1/(1+np.exp(-np.matmul(X,beta)))\n",
    "    error_count=0\n",
    "    \n",
    "    for i in range(len(y)):\n",
    "        if (y[i]==0 and prob[i]>0.5) or (y[i]==1 and prob[i]<=0.5):\n",
    "            error_count+=1\n",
    "    error_rate=error_count/len(y)\n",
    "    \n",
    "    return prob,error_rate"
   ]
  },
  {
   "cell_type": "code",
   "execution_count": 10,
   "metadata": {},
   "outputs": [
    {
     "name": "stdout",
     "output_type": "stream",
     "text": [
      "0.4736228019001583\n"
     ]
    },
    {
     "data": {
      "text/plain": [
       "(array([9134.,    0.,    0.,    0.,    0.,    0.,    0.,    0.,    0.,\n",
       "        2865.]),\n",
       " array([0. , 0.1, 0.2, 0.3, 0.4, 0.5, 0.6, 0.7, 0.8, 0.9, 1. ]),\n",
       " <a list of 10 Patch objects>)"
      ]
     },
     "execution_count": 10,
     "metadata": {},
     "output_type": "execute_result"
    },
    {
     "data": {
      "image/png": "[encoded data removed]",
      "text/plain": [
       "<Figure size 432x288 with 1 Axes>"
      ]
     },
     "metadata": {
      "needs_background": "light"
     },
     "output_type": "display_data"
    }
   ],
   "source": [
    "\n",
    "prob,error_rate=prob_function(X_train, y_train,beta)\n",
    "\n",
    "print(error_rate)\n",
    "\n",
    "plt.hist(prob)\n",
    "plt.hist(y)\n"
   ]
  },
  {
   "cell_type": "code",
   "execution_count": 11,
   "metadata": {},
   "outputs": [
    {
     "name": "stdout",
     "output_type": "stream",
     "text": [
      "[0.81493195]\n"
     ]
    }
   ],
   "source": [
    "def loss_funct(y,prob):\n",
    "    loss_function=0\n",
    "    for i in range(len(y)):\n",
    "        loss=(np.log(prob[i]))*y[i]+(1-y[i])*(np.log(1-prob[i]))\n",
    "        loss_function+=loss\n",
    "    loss_function=-loss_function/len(y)\n",
    "    \n",
    "    return loss_function\n",
    "\n",
    "loss=loss_funct(y_train,prob)\n",
    "print(loss)"
   ]
  },
  {
   "cell_type": "code",
   "execution_count": 12,
   "metadata": {},
   "outputs": [],
   "source": [
    "X_train.shape[1]  \n",
    "\n",
    "def loss_deriv(X,y, beta,prob):\n",
    "    loss_deriv=np.zeros(X.shape[1])\n",
    "    for i in range(len(y)):\n",
    "        loss_deriv +=np.array(X[i,:].ravel()*(prob[i]-y[i]))\n",
    "    deriv=loss_deriv/len(y)\n",
    "    return deriv\n",
    "deriv=loss_deriv(X_train,y_train,beta,prob)\n"
   ]
  },
  {
   "cell_type": "code",
   "execution_count": 13,
   "metadata": {},
   "outputs": [
    {
     "name": "stdout",
     "output_type": "stream",
     "text": [
      "loss [3.04803851] error rate 0.7612301025085424\n",
      "loss [0.53511974] error rate 0.22685223768647386\n",
      "loss [0.51805357] error rate 0.22001833486123842\n",
      "loss [0.50467138] error rate 0.21185098758229853\n",
      "loss [0.49398811] error rate 0.2097674806233853\n",
      "loss [0.48533153] error rate 0.21076756396366364\n",
      "loss [0.47822465] error rate 0.21185098758229853\n",
      "loss [0.47232183] error rate 0.21276773064422036\n",
      "loss [0.46736756] error rate 0.21301775147928995\n",
      "loss [0.46316969] error rate 0.21393449454121177\n",
      "loss [0.45958164] error rate 0.21551795982998584\n",
      "loss [0.45649018] error rate 0.21635136261355112\n",
      "loss [0.45380691] error rate 0.2171014251187599\n",
      "loss [0.45146215] error rate 0.21785148762396866\n",
      "loss [0.44940044] error rate 0.21835152929410784\n",
      "loss [0.44757731] error rate 0.2196016334694558\n",
      "loss [0.44595674] error rate 0.22051837653137762\n",
      "loss [0.44450938] error rate 0.2210184182015168\n",
      "loss [0.44321107] error rate 0.2213517793149429\n",
      "loss [0.44204183] error rate 0.22226852237686473\n"
     ]
    }
   ],
   "source": [
    "beta=np.random.randn(X_train.shape[1])\n",
    "alpha=1\n",
    "error_rates=[]\n",
    "beta_matrix=[]\n",
    "for i in range(200):\n",
    "    prob,error_rate=prob_function(X_train, y_train,beta)\n",
    "    loss=loss_funct(y_train,prob)\n",
    "    deriv=loss_deriv(X_train,y_train,beta,prob)\n",
    "    beta_matrix.append(beta)\n",
    "    if i%10==0:\n",
    "        print('loss',loss,'error rate', error_rate)\n",
    "    error_rates.append(error_rate)\n",
    "    beta=-alpha*deriv+beta\n"
   ]
  },
  {
   "cell_type": "code",
   "execution_count": 14,
   "metadata": {},
   "outputs": [
    {
     "data": {
      "text/plain": [
       "[<matplotlib.lines.Line2D at 0x2098f569588>]"
      ]
     },
     "execution_count": 14,
     "metadata": {},
     "output_type": "execute_result"
    },
    {
     "data": {
      "image/png": "[encoded data removed]",
      "text/plain": [
       "<Figure size 432x288 with 1 Axes>"
      ]
     },
     "metadata": {
      "needs_background": "light"
     },
     "output_type": "display_data"
    }
   ],
   "source": [
    "plt.plot(range(200),error_rates)\n"
   ]
  },
  {
   "cell_type": "markdown",
   "metadata": {},
   "source": [
    "\n",
    "# choose the beta with lowest error rate\n",
    "\n",
    "# validation with test data"
   ]
  },
  {
   "cell_type": "code",
   "execution_count": 15,
   "metadata": {},
   "outputs": [
    {
     "name": "stdout",
     "output_type": "stream",
     "text": [
      "40\n"
     ]
    }
   ],
   "source": [
    "\n",
    "error_rate_sort=np.argsort(error_rates)\n",
    "print(error_rate_sort[0])\n",
    "\n",
    "beta_optima=beta_matrix[error_rate_sort[0]]"
   ]
  },
  {
   "cell_type": "code",
   "execution_count": 16,
   "metadata": {},
   "outputs": [
    {
     "data": {
      "text/plain": [
       "3000"
      ]
     },
     "execution_count": 16,
     "metadata": {},
     "output_type": "execute_result"
    }
   ],
   "source": [
    "y_valid_prob=1/(1+np.exp(-np.matmul(X_test,beta_optima)))\n",
    "y_valid_prob.ravel()\n",
    "\n",
    "y_valid_prob.shape[0]"
   ]
  },
  {
   "cell_type": "code",
   "execution_count": 17,
   "metadata": {},
   "outputs": [],
   "source": [
    "y_valid=[]\n",
    "for i in range(y_valid_prob.shape[0]):\n",
    "    if y_valid_prob[i]>=0.5:\n",
    "        y_valid_id=1\n",
    "    else:\n",
    "        y_valid_id=0\n",
    "    y_valid.append(y_valid_id)\n",
    "\n"
   ]
  },
  {
   "cell_type": "code",
   "execution_count": 18,
   "metadata": {},
   "outputs": [
    {
     "name": "stdout",
     "output_type": "stream",
     "text": [
      "0.7853333333333333\n",
      "              precision    recall  f1-score   support\n",
      "\n",
      "           0       0.96      0.80      0.87      2738\n",
      "           1       0.23      0.62      0.33       262\n",
      "\n",
      "    accuracy                           0.79      3000\n",
      "   macro avg       0.59      0.71      0.60      3000\n",
      "weighted avg       0.89      0.79      0.83      3000\n",
      "\n",
      "[[2194  544]\n",
      " [ 100  162]]\n"
     ]
    }
   ],
   "source": [
    "from sklearn.metrics import confusion_matrix, accuracy_score, classification_report\n",
    "print(accuracy_score(y_valid,y_test))\n",
    "print(classification_report(y_valid,y_test))\n",
    "print(confusion_matrix(y_valid,y_test))"
   ]
  },
  {
   "cell_type": "markdown",
   "metadata": {},
   "source": [
    "# overfitting exp\n"
   ]
  },
  {
   "cell_type": "code",
   "execution_count": 20,
   "metadata": {},
   "outputs": [
    {
     "ename": "ValueError",
     "evalue": "Found input variables with inconsistent numbers of samples: [14999, 11999]",
     "output_type": "error",
     "traceback": [
      "\u001b[1;31m---------------------------------------------------------------------------\u001b[0m",
      "\u001b[1;31mValueError\u001b[0m                                Traceback (most recent call last)",
      "\u001b[1;32m<ipython-input-20-3ab15314309e>\u001b[0m in \u001b[0;36m<module>\u001b[1;34m\u001b[0m\n\u001b[1;32m----> 1\u001b[1;33m \u001b[0mX_train\u001b[0m\u001b[1;33m,\u001b[0m \u001b[0mX_test\u001b[0m\u001b[1;33m,\u001b[0m \u001b[0my_train\u001b[0m\u001b[1;33m,\u001b[0m \u001b[0my_test\u001b[0m \u001b[1;33m=\u001b[0m \u001b[0mtrain_test_split\u001b[0m\u001b[1;33m(\u001b[0m\u001b[0mX\u001b[0m\u001b[1;33m,\u001b[0m \u001b[0my\u001b[0m\u001b[1;33m,\u001b[0m \u001b[0mtest_size\u001b[0m\u001b[1;33m=\u001b[0m\u001b[1;36m0.2\u001b[0m\u001b[1;33m,\u001b[0m \u001b[0mrandom_state\u001b[0m\u001b[1;33m=\u001b[0m\u001b[1;36m42\u001b[0m\u001b[1;33m)\u001b[0m\u001b[1;33m\u001b[0m\u001b[1;33m\u001b[0m\u001b[0m\n\u001b[0m",
      "\u001b[1;32mD:\\Softwares\\Anaconda\\lib\\site-packages\\sklearn\\model_selection\\_split.py\u001b[0m in \u001b[0;36mtrain_test_split\u001b[1;34m(*arrays, **options)\u001b[0m\n\u001b[0;32m   2116\u001b[0m         \u001b[1;32mraise\u001b[0m \u001b[0mTypeError\u001b[0m\u001b[1;33m(\u001b[0m\u001b[1;34m\"Invalid parameters passed: %s\"\u001b[0m \u001b[1;33m%\u001b[0m \u001b[0mstr\u001b[0m\u001b[1;33m(\u001b[0m\u001b[0moptions\u001b[0m\u001b[1;33m)\u001b[0m\u001b[1;33m)\u001b[0m\u001b[1;33m\u001b[0m\u001b[1;33m\u001b[0m\u001b[0m\n\u001b[0;32m   2117\u001b[0m \u001b[1;33m\u001b[0m\u001b[0m\n\u001b[1;32m-> 2118\u001b[1;33m     \u001b[0marrays\u001b[0m \u001b[1;33m=\u001b[0m \u001b[0mindexable\u001b[0m\u001b[1;33m(\u001b[0m\u001b[1;33m*\u001b[0m\u001b[0marrays\u001b[0m\u001b[1;33m)\u001b[0m\u001b[1;33m\u001b[0m\u001b[1;33m\u001b[0m\u001b[0m\n\u001b[0m\u001b[0;32m   2119\u001b[0m \u001b[1;33m\u001b[0m\u001b[0m\n\u001b[0;32m   2120\u001b[0m     \u001b[0mn_samples\u001b[0m \u001b[1;33m=\u001b[0m \u001b[0m_num_samples\u001b[0m\u001b[1;33m(\u001b[0m\u001b[0marrays\u001b[0m\u001b[1;33m[\u001b[0m\u001b[1;36m0\u001b[0m\u001b[1;33m]\u001b[0m\u001b[1;33m)\u001b[0m\u001b[1;33m\u001b[0m\u001b[1;33m\u001b[0m\u001b[0m\n",
      "\u001b[1;32mD:\\Softwares\\Anaconda\\lib\\site-packages\\sklearn\\utils\\validation.py\u001b[0m in \u001b[0;36mindexable\u001b[1;34m(*iterables)\u001b[0m\n\u001b[0;32m    246\u001b[0m     \"\"\"\n\u001b[0;32m    247\u001b[0m     \u001b[0mresult\u001b[0m \u001b[1;33m=\u001b[0m \u001b[1;33m[\u001b[0m\u001b[0m_make_indexable\u001b[0m\u001b[1;33m(\u001b[0m\u001b[0mX\u001b[0m\u001b[1;33m)\u001b[0m \u001b[1;32mfor\u001b[0m \u001b[0mX\u001b[0m \u001b[1;32min\u001b[0m \u001b[0miterables\u001b[0m\u001b[1;33m]\u001b[0m\u001b[1;33m\u001b[0m\u001b[1;33m\u001b[0m\u001b[0m\n\u001b[1;32m--> 248\u001b[1;33m     \u001b[0mcheck_consistent_length\u001b[0m\u001b[1;33m(\u001b[0m\u001b[1;33m*\u001b[0m\u001b[0mresult\u001b[0m\u001b[1;33m)\u001b[0m\u001b[1;33m\u001b[0m\u001b[1;33m\u001b[0m\u001b[0m\n\u001b[0m\u001b[0;32m    249\u001b[0m     \u001b[1;32mreturn\u001b[0m \u001b[0mresult\u001b[0m\u001b[1;33m\u001b[0m\u001b[1;33m\u001b[0m\u001b[0m\n\u001b[0;32m    250\u001b[0m \u001b[1;33m\u001b[0m\u001b[0m\n",
      "\u001b[1;32mD:\\Softwares\\Anaconda\\lib\\site-packages\\sklearn\\utils\\validation.py\u001b[0m in \u001b[0;36mcheck_consistent_length\u001b[1;34m(*arrays)\u001b[0m\n\u001b[0;32m    210\u001b[0m     \u001b[1;32mif\u001b[0m \u001b[0mlen\u001b[0m\u001b[1;33m(\u001b[0m\u001b[0muniques\u001b[0m\u001b[1;33m)\u001b[0m \u001b[1;33m>\u001b[0m \u001b[1;36m1\u001b[0m\u001b[1;33m:\u001b[0m\u001b[1;33m\u001b[0m\u001b[1;33m\u001b[0m\u001b[0m\n\u001b[0;32m    211\u001b[0m         raise ValueError(\"Found input variables with inconsistent numbers of\"\n\u001b[1;32m--> 212\u001b[1;33m                          \" samples: %r\" % [int(l) for l in lengths])\n\u001b[0m\u001b[0;32m    213\u001b[0m \u001b[1;33m\u001b[0m\u001b[0m\n\u001b[0;32m    214\u001b[0m \u001b[1;33m\u001b[0m\u001b[0m\n",
      "\u001b[1;31mValueError\u001b[0m: Found input variables with inconsistent numbers of samples: [14999, 11999]"
     ]
    }
   ],
   "source": [
    "X_train, X_test, y_train, y_test = train_test_split(X, y, test_size=0.2, random_state=42)"
   ]
  },
  {
   "cell_type": "code",
   "execution_count": null,
   "metadata": {},
   "outputs": [],
   "source": [
    "np.random.seed(1)\n",
    "alpha = 5 # learning rate\n",
    "beta = np.random.randn(Xtrain.shape[1])\n",
    "error_rates_train=[]\n",
    "error_rates_vali=[]\n",
    "for T in range(200):\n",
    "    prob = np.array(1. / (1 + np.exp(-np.matmul(Xtrain, beta)))).ravel()  \n",
    "    prob_y = list(zip(prob, ytrain))\n",
    "    loss = -sum([np.log(p) if y == 1 else np.log(1 - p) for p, y in prob_y]) / len(ytrain) \n",
    "    error_rate = 0\n",
    "    for i in range(len(ytrain)):\n",
    "        if ((prob[i] > 0.5 and ytrain[i] == 0) or (prob[i] <= 0.5 and ytrain[i] == 1)):\n",
    "            error_rate += 1;\n",
    "    error_rate /= len(ytrain)\n",
    "    error_rates_train.append(error_rate)\n",
    "    \n",
    "    prob_vali = np.array(1. / (1 + np.exp(-np.matmul(Xvali, beta)))).ravel()  # 根据当前beta预测离职的概率\n",
    "    prob_y_vali = list(zip(prob_vali, yvali))\n",
    "    loss_vali = -sum([np.log(p) if y == 1 else np.log(1 - p) for p, y in prob_y_vali]) / len(yvali) # 计算损失函数的值\n",
    "    error_rate_vali = 0\n",
    "    for i in range(len(yvali)):\n",
    "        if ((prob_vali[i] > 0.5 and yvali[i] == 0) or (prob_vali[i] <= 0.5 and yvali[i] == 1)):\n",
    "            error_rate_vali += 1\n",
    "    error_rate_vali /= len(yvali)\n",
    "    error_rates_vali.append(error_rate_vali)\n",
    "    \n",
    "    if T % 5 ==0 :\n",
    "        print('T=' + str(T) + ' loss=' + str(loss) + ' error=' + str(error_rate)+ ' error_vali=' + str(error_rate_vali))\n",
    "    # 计算损失函数关于beta每个分量的导数\n",
    "    deriv = np.zeros(Xtrain.shape[1])\n",
    "    for i in range(len(ytrain)):\n",
    "        deriv += np.asarray(Xtrain[i,:]).ravel() * (prob[i] - ytrain[i])\n",
    "    deriv /= len(ytrain)\n",
    "    # 沿导数相反方向修改beta\n",
    "    beta -= alpha * deriv"
   ]
  },
  {
   "cell_type": "code",
   "execution_count": null,
   "metadata": {},
   "outputs": [],
   "source": [
    "plt.hist(prob)\n",
    "plt.hist(y)"
   ]
  },
  {
   "cell_type": "code",
   "execution_count": null,
   "metadata": {},
   "outputs": [],
   "source": [
    "plt.plot(range(50,200), error_rates_train[50:], 'r^', range(50, 200), error_rates_vali[50:], 'bs')\n",
    "plt.show()"
   ]
  },
  {
   "cell_type": "markdown",
   "metadata": {},
   "source": [
    "# gradient check"
   ]
  },
  {
   "cell_type": "code",
   "execution_count": null,
   "metadata": {},
   "outputs": [],
   "source": [
    "np.random.seed(1)\n",
    "alpha = 1  # learning rate\n",
    "beta = np.random.randn(X.shape[1]) # 随机初始化参数beta\n",
    "\n",
    "#dF/dbeta0\n",
    "prob = np.array(1. / (1 + np.exp(-np.matmul(X, beta)))).ravel()  # 根据当前beta预测离职的概率\n",
    "prob_y = list(zip(prob, y))\n",
    "loss = -sum([np.log(p) if y == 1 else np.log(1. - p) for p, y in prob_y]) / len(y) # 计算损失函数的值\n",
    "deriv = np.zeros(X.shape[1])\n",
    "for i in range(len(y)):\n",
    "    deriv += np.asarray(X[i,:]).ravel() * (prob[i] - y[i])\n",
    "deriv /= len(y)\n",
    "print('We calculated ' + str(deriv[0]))\n",
    "\n",
    "delta = 0.0001\n",
    "beta[0] += delta\n",
    "prob = np.array(1. / (1 + np.exp(-np.matmul(X, beta)))).ravel()  # 根据当前beta预测离职的概率\n",
    "prob_y = list(zip(prob, y))\n",
    "loss2 = -sum([np.log(p) if y == 1 else np.log(1. - p) for p, y in prob_y]) / len(y) # 计算损失函数的值\n",
    "shouldbe = (loss2 - loss) / delta # (F(b0+delta,b1,...,bn) - F(b0,...bn)) / delta\n",
    "print('According to definition of gradient, it is ' + str(shouldbe))"
   ]
  },
  {
   "cell_type": "code",
   "execution_count": null,
   "metadata": {},
   "outputs": [],
   "source": []
  },
  {
   "cell_type": "code",
   "execution_count": null,
   "metadata": {},
   "outputs": [],
   "source": []
  },
  {
   "cell_type": "code",
   "execution_count": null,
   "metadata": {},
   "outputs": [],
   "source": []
  },
  {
   "cell_type": "code",
   "execution_count": null,
   "metadata": {},
   "outputs": [],
   "source": []
  },
  {
   "cell_type": "code",
   "execution_count": null,
   "metadata": {},
   "outputs": [],
   "source": []
  },
  {
   "cell_type": "code",
   "execution_count": null,
   "metadata": {},
   "outputs": [],
   "source": []
  },
  {
   "cell_type": "code",
   "execution_count": null,
   "metadata": {},
   "outputs": [],
   "source": []
  },
  {
   "cell_type": "code",
   "execution_count": null,
   "metadata": {},
   "outputs": [],
   "source": []
  }
 ],
 "metadata": {
  "kernelspec": {
   "display_name": "Python 3",
   "language": "python",
   "name": "python3"
  },
  "language_info": {
   "codemirror_mode": {
    "name": "ipython",
    "version": 3
   },
   "file_extension": ".py",
   "mimetype": "text/x-python",
   "name": "python",
   "nbconvert_exporter": "python",
   "pygments_lexer": "ipython3",
   "version": "3.7.6"
  }
 },
 "nbformat": 4,
 "nbformat_minor": 4
}
